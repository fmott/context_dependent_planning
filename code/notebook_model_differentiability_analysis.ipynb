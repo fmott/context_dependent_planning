{
 "cells": [
  {
   "cell_type": "markdown",
   "metadata": {},
   "source": [
    "# Model recovery analysis\n",
    "#### Florian Ott, 2022"
   ]
  },
  {
   "cell_type": "markdown",
   "metadata": {},
   "source": [
    "Here we test the range of parameter values for which the hybrid model (*HM (I)P+S (E)P+S 2beta*) is distinguishable from the planning model (*PM (I)P (E)P*) and the simple model (*SM (I)S (E)S*). Note that we used a non-hierarchical version of the HM, PM and SM, which allows us to demonstrate model distinguishability at moderate computational expense. Please refer to the manuscript for further explanation."
   ]
  },
  {
   "cell_type": "code",
   "execution_count": 1,
   "metadata": {},
   "outputs": [],
   "source": [
    "import numpy as np\n",
    "import pandas as pd\n",
    "import pystan\n",
    "import arviz as az\n",
    "import glob as glob\n",
    "import time as time\n",
    "import matplotlib.pyplot as plt\n",
    "import scipy.stats as stats\n",
    "import pickle\n",
    "plt.style.use('ara')\n",
    "\n",
    "def sigmoid(x):\n",
    "    return 1 / (1 + np.exp(-x))\n",
    "\n",
    "## Load particpant data \n",
    "filename = glob.glob('../data/behaviour/data_all_participants_20220215120148.csv') \n",
    "dat = pd.read_csv(filename[0],index_col = 0)\n",
    "\n",
    "## Load model data\n",
    "# Posterior mean and credibility intervals of estimated parameters\n",
    "with open(\"../data/model/summary_HM_20220216143030.pkl\", \"rb\") as f:\n",
    "    summary_hybrid = pickle.load(f)['summary']\n",
    "\n",
    "idx = dat['timeout'] == 0\n",
    "dat_subset = dat.loc[idx]"
   ]
  },
  {
   "cell_type": "markdown",
   "metadata": {},
   "source": [
    "# Specifying the models "
   ]
  },
  {
   "cell_type": "code",
   "execution_count": 2,
   "metadata": {},
   "outputs": [],
   "source": [
    "# Stan code for the flat version of the PM\n",
    "flat_m1 = '''\n",
    "data {\n",
    "  int<lower=0> N;\n",
    "  int<lower=0,upper=1> response[N];\n",
    "  vector[N] dv;\n",
    "  vector[N] is_basic;\n",
    "  vector[N] is_full_energy;\n",
    "  vector[N] is_low_energy_LC;\n",
    "  vector[N] is_low_energy_HC;\n",
    "}\n",
    "\n",
    "parameters {\n",
    "  real theta_basic;\n",
    "  real theta_full_energy;\n",
    "  real theta_low_energy_LC;\n",
    "  real theta_low_energy_HC;\n",
    "  real beta_dv;\n",
    "}\n",
    "\n",
    "model {\n",
    "  theta_basic ~ normal(0, 2);\n",
    "  theta_full_energy ~ normal(0, 2);\n",
    "  theta_low_energy_LC ~ normal(0, 2);\n",
    "  theta_low_energy_HC ~ normal(0, 2);\n",
    "  beta_dv ~ normal(0, 2);  \n",
    "\n",
    "  response ~ bernoulli_logit(theta_full_energy * is_full_energy + theta_low_energy_LC * is_low_energy_LC + theta_low_energy_HC * is_low_energy_HC + theta_basic * is_basic + beta_dv * dv);\n",
    "}\n",
    "\n",
    "generated quantities {\n",
    "  vector[N] log_lik;\n",
    "  vector[N] response_new;\n",
    "\n",
    "// pointwise log-likelihood\n",
    "  for (n in 1:N) {\n",
    "    log_lik[n] = bernoulli_logit_lpmf(response[n]  |  (theta_full_energy * is_full_energy[n] + theta_low_energy_LC * is_low_energy_LC[n] + theta_low_energy_HC * is_low_energy_HC[n] + theta_basic * is_basic[n] + beta_dv * dv[n]));\n",
    "    }\n",
    "\n",
    "// posterior predictive simulation  \n",
    "\n",
    "  for (n in 1:N){\n",
    "    response_new[n] = bernoulli_logit_rng(theta_full_energy * is_full_energy[n] + theta_low_energy_LC * is_low_energy_LC[n] + theta_low_energy_HC * is_low_energy_HC[n] + theta_basic * is_basic[n] + beta_dv * dv[n]);\n",
    "    } \n",
    "}\n",
    "'''"
   ]
  },
  {
   "cell_type": "code",
   "execution_count": 3,
   "metadata": {},
   "outputs": [],
   "source": [
    "# Stan code for the flat version of the HM model\n",
    "flat_m2 = '''\n",
    "data {\n",
    "  int<lower=0> N;\n",
    "  int<lower=0,upper=1> response[N];\n",
    "  vector[N] dv;\n",
    "  vector[N] is_basic_1;\n",
    "  vector[N] is_basic_2;\n",
    "  vector[N] is_basic_3;\n",
    "  vector[N] is_basic_4;\n",
    "  vector[N] is_23;\n",
    "  vector[N] is_14;\n",
    "  vector[N] is_full_energy;\n",
    "  vector[N] is_low_energy_LC;\n",
    "  vector[N] is_low_energy_HC;\n",
    "}\n",
    "\n",
    "parameters {\n",
    "  real theta_basic_1;\n",
    "  real theta_basic_2;\n",
    "  real theta_basic_3;\n",
    "  real theta_basic_4;\n",
    "  real theta_full_energy;\n",
    "  real theta_low_energy_LC;\n",
    "  real theta_low_energy_HC;\n",
    "  real beta_dv_23;\n",
    "  real beta_dv_14;\n",
    "\n",
    "}\n",
    "\n",
    "model {\n",
    "// priors\n",
    "  theta_basic_1 ~ normal(0,2);\n",
    "  theta_basic_2 ~ normal(0,2);\n",
    "  theta_basic_3 ~ normal(0,2);\n",
    "  theta_basic_4 ~ normal(0,2);\n",
    "  theta_full_energy ~ normal(0,2);\n",
    "  theta_low_energy_LC ~ normal(0,2);\n",
    "  theta_low_energy_HC ~ normal(0,2);\n",
    "  beta_dv_23 ~ normal(0,2);  \n",
    "  beta_dv_14 ~ normal(0,2);  \n",
    "\n",
    "\n",
    "// likelihood \n",
    "  response ~ bernoulli_logit(theta_full_energy * is_full_energy + theta_low_energy_LC * is_low_energy_LC + theta_low_energy_HC * is_low_energy_HC + theta_basic_1 * is_basic_1 + theta_basic_2 * is_basic_2 + theta_basic_3 * is_basic_3 + theta_basic_4 * is_basic_4 + beta_dv_23 * dv .* is_23 + beta_dv_14 * dv .* is_14);\n",
    "}\n",
    "\n",
    "generated quantities {\n",
    "  vector[N] log_lik;\n",
    "  vector[N] response_new;\n",
    "\n",
    "// pointwise log-likelihood\n",
    "  for (n in 1:N) {\n",
    "    log_lik[n] = bernoulli_logit_lpmf(response[n]  |  (theta_full_energy * is_full_energy[n] + theta_low_energy_LC * is_low_energy_LC[n] + theta_low_energy_HC * is_low_energy_HC[n] + theta_basic_1  * is_basic_1[n] + theta_basic_2  * is_basic_2[n] + theta_basic_3  * is_basic_3[n] + theta_basic_4 * is_basic_4[n] + beta_dv_23 * dv[n] * is_23[n] + beta_dv_14 * dv[n] * is_14[n] ));\n",
    "    }\n",
    "\n",
    "// posterior predictive simulation  \n",
    "\n",
    "  for (n in 1:N){\n",
    "    response_new[n] = bernoulli_logit_rng(theta_full_energy * is_full_energy[n] + theta_low_energy_LC * is_low_energy_LC[n] + theta_low_energy_HC * is_low_energy_HC[n] + theta_basic_1  * is_basic_1[n] + theta_basic_2  * is_basic_2[n] + theta_basic_3 * is_basic_3[n] + theta_basic_4 * is_basic_4[n] + beta_dv_23  * dv[n] * is_23[n] + beta_dv_14  * dv[n] * is_14[n] );\n",
    "    } \n",
    "}\n",
    "'''"
   ]
  },
  {
   "cell_type": "code",
   "execution_count": 4,
   "metadata": {},
   "outputs": [],
   "source": [
    "# Stan code for the flat version of the SM model\n",
    "flat_m3 = '''\n",
    "data {\n",
    "  int<lower=0> N;\n",
    "  int<lower=0,upper=1> response[N];\n",
    "  vector[N] is_basic_1;\n",
    "  vector[N] is_basic_2;\n",
    "  vector[N] is_basic_3;\n",
    "  vector[N] is_basic_4;\n",
    "  vector[N] is_full_energy;\n",
    "  vector[N] is_low_energy_LC;\n",
    "  vector[N] is_low_energy_HC;\n",
    "}\n",
    "\n",
    "parameters {\n",
    "  real theta_basic_1;\n",
    "  real theta_basic_2;\n",
    "  real theta_basic_3;\n",
    "  real theta_basic_4;\n",
    "  real theta_full_energy;\n",
    "  real theta_low_energy_LC;\n",
    "  real theta_low_energy_HC;\n",
    "}\n",
    "\n",
    "model {\n",
    "// priors\n",
    "  theta_basic_1 ~ normal(0,2);\n",
    "  theta_basic_2 ~ normal(0,2);\n",
    "  theta_basic_3 ~ normal(0,2);\n",
    "  theta_basic_4 ~ normal(0,2);\n",
    "  theta_full_energy ~ normal(0,2);\n",
    "  theta_low_energy_LC ~ normal(0,2);\n",
    "  theta_low_energy_HC ~ normal(0,2);\n",
    "\n",
    "// likelihood \n",
    "  response ~ bernoulli_logit(theta_full_energy * is_full_energy + theta_low_energy_LC * is_low_energy_LC + theta_low_energy_HC * is_low_energy_HC + theta_basic_1 * is_basic_1 + theta_basic_2 * is_basic_2 + theta_basic_3 * is_basic_3 + theta_basic_4 * is_basic_4);\n",
    "}\n",
    "\n",
    "generated quantities {\n",
    "  vector[N] log_lik;\n",
    "  vector[N] response_new;\n",
    "\n",
    "// pointwise log-likelihood\n",
    "  for (n in 1:N) {\n",
    "    log_lik[n] = bernoulli_logit_lpmf(response[n]  |  (theta_full_energy * is_full_energy[n] + theta_low_energy_LC * is_low_energy_LC[n] + theta_low_energy_HC * is_low_energy_HC[n] + theta_basic_1  * is_basic_1[n] + theta_basic_2  * is_basic_2[n] + theta_basic_3  * is_basic_3[n] + theta_basic_4 * is_basic_4[n] ));\n",
    "    }\n",
    "\n",
    "// posterior predictive simulation  \n",
    "\n",
    "  for (n in 1:N){\n",
    "    response_new[n] = bernoulli_logit_rng(theta_full_energy * is_full_energy[n] + theta_low_energy_LC * is_low_energy_LC[n] + theta_low_energy_HC * is_low_energy_HC[n] + theta_basic_1  * is_basic_1[n] + theta_basic_2  * is_basic_2[n] + theta_basic_3 * is_basic_3[n] + theta_basic_4 * is_basic_4[n]);\n",
    "    } \n",
    "}\n",
    "'''"
   ]
  },
  {
   "cell_type": "markdown",
   "metadata": {},
   "source": [
    "## Compiling"
   ]
  },
  {
   "cell_type": "code",
   "execution_count": 5,
   "metadata": {},
   "outputs": [
    {
     "name": "stderr",
     "output_type": "stream",
     "text": [
      "INFO:pystan:COMPILING THE C++ CODE FOR MODEL anon_model_a3f6ea7031342da4236663488ef0aea9 NOW.\n"
     ]
    }
   ],
   "source": [
    "sm_flat_m1 = pystan.StanModel(model_code=flat_m1,verbose = False)"
   ]
  },
  {
   "cell_type": "code",
   "execution_count": 6,
   "metadata": {},
   "outputs": [
    {
     "name": "stderr",
     "output_type": "stream",
     "text": [
      "INFO:pystan:COMPILING THE C++ CODE FOR MODEL anon_model_4424221ebd75a70e372f5027b9ef5bae NOW.\n"
     ]
    }
   ],
   "source": [
    "sm_flat_m2 = pystan.StanModel(model_code=flat_m2,verbose = False)"
   ]
  },
  {
   "cell_type": "code",
   "execution_count": 7,
   "metadata": {},
   "outputs": [
    {
     "name": "stderr",
     "output_type": "stream",
     "text": [
      "INFO:pystan:COMPILING THE C++ CODE FOR MODEL anon_model_f3cfc8e7fc0c4c06d40a9a06aed64a27 NOW.\n"
     ]
    }
   ],
   "source": [
    "sm_flat_m3 = pystan.StanModel(model_code=flat_m3,verbose = False)"
   ]
  },
  {
   "cell_type": "markdown",
   "metadata": {},
   "source": [
    "# Vary preference parameters $\\theta$"
   ]
  },
  {
   "cell_type": "markdown",
   "metadata": {},
   "source": [
    "## Simulate novel responses"
   ]
  },
  {
   "cell_type": "code",
   "execution_count": 8,
   "metadata": {},
   "outputs": [],
   "source": [
    "## Simulate novel data for refitting \n",
    "is_full_energy_rep = dat['is_full_energy'].to_numpy(dtype='int').squeeze()\n",
    "is_low_energy_LC_rep = dat['is_low_energy_LC'].to_numpy(dtype='int').squeeze()\n",
    "is_low_energy_HC_rep = dat['is_low_energy_HC'].to_numpy(dtype='int').squeeze()\n",
    "is_basic_1_rep = dat['is_basic_1'].to_numpy(dtype='int').squeeze()\n",
    "is_basic_2_rep = dat['is_basic_2'].to_numpy(dtype='int').squeeze()\n",
    "is_basic_3_rep = dat['is_basic_3'].to_numpy(dtype='int').squeeze()\n",
    "is_basic_4_rep = dat['is_basic_4'].to_numpy(dtype='int').squeeze()\n",
    "is_basic_rep = dat['is_basic'].to_numpy(dtype='int').squeeze()\n",
    "is_23_rep = dat['is_23'].to_numpy(dtype='int').squeeze()\n",
    "is_14_rep = dat['is_14'].to_numpy(dtype='int').squeeze()\n",
    "dv_rep = dat['dv_planning'].to_numpy().squeeze()\n",
    "\n",
    "# Get posterior mean of group parameters and set range of parameters of interest\n",
    "beta_dv_23_rep = summary_hybrid['mu_beta_dv_23']['mean'].to_numpy()\n",
    "beta_dv_14_rep = summary_hybrid['mu_beta_dv_14']['mean'].to_numpy()\n",
    "theta_basic_1_rep = np.arange(0,-6,-1)\n",
    "theta_basic_2_rep = np.arange(0,-6,-1)\n",
    "theta_basic_3_rep = np.arange(0,6)\n",
    "theta_basic_4_rep = np.arange(0,6)\n",
    "theta_full_energy_rep = summary_hybrid['theta_full_energy']['mean'].to_numpy()\n",
    "theta_low_energy_HC_rep = summary_hybrid['theta_low_energy_HC']['mean'].to_numpy()\n",
    "theta_low_energy_LC_rep = summary_hybrid['theta_low_energy_LC']['mean'].to_numpy()\n",
    "\n",
    "# Sample novel binary responses\n",
    "n_param_combinations = 6\n",
    "response_rep = np.zeros((len(dat),n_param_combinations))\n",
    "for i in range(n_param_combinations):\n",
    "    logits_rep = theta_full_energy_rep * is_full_energy_rep + theta_low_energy_LC_rep * is_low_energy_LC_rep + theta_low_energy_HC_rep * is_low_energy_HC_rep + theta_basic_1_rep[i] * is_basic_1_rep + theta_basic_2_rep[i] * is_basic_2_rep + theta_basic_3_rep[i] * is_basic_3_rep + theta_basic_4_rep[i] * is_basic_4_rep + beta_dv_23_rep * dv_rep * is_23_rep + beta_dv_14_rep * dv_rep * is_14_rep\n",
    "    p_rep = sigmoid(logits_rep) \n",
    "    response_rep[:,i] = stats.bernoulli.rvs(p_rep)\n",
    "response_rep = np.array(response_rep,dtype=int)"
   ]
  },
  {
   "cell_type": "markdown",
   "metadata": {},
   "source": [
    "## Specifying the data and sampling posterior"
   ]
  },
  {
   "cell_type": "markdown",
   "metadata": {},
   "source": [
    "### Planning"
   ]
  },
  {
   "cell_type": "code",
   "execution_count": 9,
   "metadata": {},
   "outputs": [
    {
     "name": "stderr",
     "output_type": "stream",
     "text": [
      "WARNING:pystan:Maximum (flat) parameter count (1000) exceeded: skipping diagnostic tests for n_eff and Rhat.\n",
      "To run all diagnostics call pystan.check_hmc_diagnostics(fit)\n",
      "WARNING:pystan:Maximum (flat) parameter count (1000) exceeded: skipping diagnostic tests for n_eff and Rhat.\n",
      "To run all diagnostics call pystan.check_hmc_diagnostics(fit)\n",
      "WARNING:pystan:Maximum (flat) parameter count (1000) exceeded: skipping diagnostic tests for n_eff and Rhat.\n",
      "To run all diagnostics call pystan.check_hmc_diagnostics(fit)\n",
      "WARNING:pystan:Maximum (flat) parameter count (1000) exceeded: skipping diagnostic tests for n_eff and Rhat.\n",
      "To run all diagnostics call pystan.check_hmc_diagnostics(fit)\n",
      "WARNING:pystan:Maximum (flat) parameter count (1000) exceeded: skipping diagnostic tests for n_eff and Rhat.\n",
      "To run all diagnostics call pystan.check_hmc_diagnostics(fit)\n",
      "WARNING:pystan:Maximum (flat) parameter count (1000) exceeded: skipping diagnostic tests for n_eff and Rhat.\n",
      "To run all diagnostics call pystan.check_hmc_diagnostics(fit)\n"
     ]
    }
   ],
   "source": [
    "control_dict = dict(adapt_delta=0.95)\n",
    "idx = (dat['timeout'] == 0)\n",
    "is_full_energy = dat.loc[idx,['is_full_energy']].to_numpy(dtype='int').squeeze()\n",
    "is_low_energy_LC = dat.loc[idx,['is_low_energy_LC']].to_numpy(dtype='int').squeeze()\n",
    "is_low_energy_HC = dat.loc[idx,['is_low_energy_HC']].to_numpy(dtype='int').squeeze()\n",
    "is_basic = dat.loc[idx,['is_basic']].to_numpy(dtype='int').squeeze()\n",
    "dv = dat.loc[idx,['dv_planning']].to_numpy().squeeze()\n",
    "\n",
    "looic_planning_i_vary_theta = np.zeros(n_param_combinations)\n",
    "looic_planning_se_i_vary_theta = np.zeros(n_param_combinations)\n",
    "for i in range(n_param_combinations):\n",
    "    dat_dict_planning = {'N':len(dv),         \n",
    "                'response':response_rep[idx,i],\n",
    "                'dv':dv, \n",
    "                'is_full_energy':is_full_energy ,\n",
    "                'is_low_energy_LC':is_low_energy_LC,\n",
    "                'is_low_energy_HC':is_low_energy_HC,\n",
    "                'is_basic':is_basic\n",
    "                } \n",
    "\n",
    "\n",
    "    res_planning = sm_flat_m1.sampling(data=dat_dict_planning, iter=2000,  warmup=1000, thin=1, chains=4,seed=101, verbose = False);\n",
    "    idata_planning = az.from_pystan(posterior=res_planning,log_likelihood='log_lik')\n",
    "    looic_planning = az.loo(idata_planning,pointwise=True,scale='deviance')\n",
    "    looic_planning_i_vary_theta[i]=looic_planning[0]\n",
    "    looic_planning_se_i_vary_theta[i]=looic_planning[1];"
   ]
  },
  {
   "cell_type": "markdown",
   "metadata": {},
   "source": [
    "### Hybrid"
   ]
  },
  {
   "cell_type": "code",
   "execution_count": 10,
   "metadata": {},
   "outputs": [
    {
     "name": "stderr",
     "output_type": "stream",
     "text": [
      "WARNING:pystan:Maximum (flat) parameter count (1000) exceeded: skipping diagnostic tests for n_eff and Rhat.\n",
      "To run all diagnostics call pystan.check_hmc_diagnostics(fit)\n",
      "WARNING:pystan:Maximum (flat) parameter count (1000) exceeded: skipping diagnostic tests for n_eff and Rhat.\n",
      "To run all diagnostics call pystan.check_hmc_diagnostics(fit)\n",
      "WARNING:pystan:Maximum (flat) parameter count (1000) exceeded: skipping diagnostic tests for n_eff and Rhat.\n",
      "To run all diagnostics call pystan.check_hmc_diagnostics(fit)\n",
      "WARNING:pystan:Maximum (flat) parameter count (1000) exceeded: skipping diagnostic tests for n_eff and Rhat.\n",
      "To run all diagnostics call pystan.check_hmc_diagnostics(fit)\n",
      "WARNING:pystan:Maximum (flat) parameter count (1000) exceeded: skipping diagnostic tests for n_eff and Rhat.\n",
      "To run all diagnostics call pystan.check_hmc_diagnostics(fit)\n",
      "WARNING:pystan:Maximum (flat) parameter count (1000) exceeded: skipping diagnostic tests for n_eff and Rhat.\n",
      "To run all diagnostics call pystan.check_hmc_diagnostics(fit)\n"
     ]
    }
   ],
   "source": [
    "control_dict = dict(adapt_delta=0.95)\n",
    "idx = (dat['timeout'] == 0)\n",
    "is_full_energy = dat.loc[idx,['is_full_energy']].to_numpy(dtype='int').squeeze()\n",
    "is_low_energy_LC = dat.loc[idx,['is_low_energy_LC']].to_numpy(dtype='int').squeeze()\n",
    "is_low_energy_HC = dat.loc[idx,['is_low_energy_HC']].to_numpy(dtype='int').squeeze()\n",
    "is_basic_1 = dat.loc[idx,['is_basic_1']].to_numpy(dtype='int').squeeze()\n",
    "is_basic_2 = dat.loc[idx,['is_basic_2']].to_numpy(dtype='int').squeeze()\n",
    "is_basic_3 = dat.loc[idx,['is_basic_3']].to_numpy(dtype='int').squeeze()\n",
    "is_basic_4 = dat.loc[idx,['is_basic_4']].to_numpy(dtype='int').squeeze()\n",
    "is_basic = dat.loc[idx,['is_basic']].to_numpy(dtype='int').squeeze()\n",
    "is_23 = dat.loc[idx,['is_23']].to_numpy(dtype='int').squeeze()\n",
    "is_14 = dat.loc[idx,['is_14']].to_numpy(dtype='int').squeeze()\n",
    "dv = dat.loc[idx,['dv_planning']].to_numpy().squeeze()\n",
    "\n",
    "looic_hybrid_i_vary_theta = np.zeros(n_param_combinations)\n",
    "looic_hybrid_se_i_vary_theta = np.zeros(n_param_combinations)\n",
    "for i in range(n_param_combinations):\n",
    "    dat_dict_hybrid= {'N':len(dv),         \n",
    "                'response':response_rep[idx,i],\n",
    "                'dv':dv,      \n",
    "                'is_full_energy':is_full_energy ,\n",
    "                'is_low_energy_LC':is_low_energy_LC,\n",
    "                'is_low_energy_HC':is_low_energy_HC,\n",
    "                'is_basic_1':is_basic_1,\n",
    "                'is_basic_2':is_basic_2,\n",
    "                'is_basic_3':is_basic_3,\n",
    "                'is_basic_4':is_basic_4,\n",
    "                'is_23':is_23,\n",
    "                'is_14':is_14\n",
    "                } \n",
    "\n",
    "    res_hybrid = sm_flat_m2.sampling(data=dat_dict_hybrid, iter=2000,  warmup=1000, thin=1, chains=4,control = control_dict,seed=101, verbose = False);\n",
    "    idata_hybrid = az.from_pystan(posterior=res_hybrid,log_likelihood='log_lik')\n",
    "    looic_hybrid = az.loo(idata_hybrid,pointwise=True,scale='deviance')\n",
    "    looic_hybrid_i_vary_theta[i]=looic_hybrid[0]\n",
    "    looic_hybrid_se_i_vary_theta[i]=looic_hybrid[1];"
   ]
  },
  {
   "cell_type": "markdown",
   "metadata": {},
   "source": [
    "### Simple"
   ]
  },
  {
   "cell_type": "code",
   "execution_count": 11,
   "metadata": {},
   "outputs": [
    {
     "name": "stderr",
     "output_type": "stream",
     "text": [
      "WARNING:pystan:Maximum (flat) parameter count (1000) exceeded: skipping diagnostic tests for n_eff and Rhat.\n",
      "To run all diagnostics call pystan.check_hmc_diagnostics(fit)\n",
      "WARNING:pystan:Maximum (flat) parameter count (1000) exceeded: skipping diagnostic tests for n_eff and Rhat.\n",
      "To run all diagnostics call pystan.check_hmc_diagnostics(fit)\n",
      "WARNING:pystan:Maximum (flat) parameter count (1000) exceeded: skipping diagnostic tests for n_eff and Rhat.\n",
      "To run all diagnostics call pystan.check_hmc_diagnostics(fit)\n",
      "WARNING:pystan:Maximum (flat) parameter count (1000) exceeded: skipping diagnostic tests for n_eff and Rhat.\n",
      "To run all diagnostics call pystan.check_hmc_diagnostics(fit)\n",
      "WARNING:pystan:Maximum (flat) parameter count (1000) exceeded: skipping diagnostic tests for n_eff and Rhat.\n",
      "To run all diagnostics call pystan.check_hmc_diagnostics(fit)\n",
      "WARNING:pystan:Maximum (flat) parameter count (1000) exceeded: skipping diagnostic tests for n_eff and Rhat.\n",
      "To run all diagnostics call pystan.check_hmc_diagnostics(fit)\n"
     ]
    }
   ],
   "source": [
    "control_dict = dict(adapt_delta=0.95)\n",
    "idx = (dat['timeout'] == 0)\n",
    "is_full_energy = dat.loc[idx,['is_full_energy']].to_numpy(dtype='int').squeeze()\n",
    "is_low_energy_LC = dat.loc[idx,['is_low_energy_LC']].to_numpy(dtype='int').squeeze()\n",
    "is_low_energy_HC = dat.loc[idx,['is_low_energy_HC']].to_numpy(dtype='int').squeeze()\n",
    "is_basic = dat.loc[idx,['is_basic']].to_numpy(dtype='int').squeeze()\n",
    "dv = dat.loc[idx,['dv_simple']].to_numpy().squeeze()\n",
    "\n",
    "looic_simple_i_vary_theta = np.zeros(n_param_combinations)\n",
    "looic_simple_se_i_vary_theta = np.zeros(n_param_combinations)\n",
    "for i in range(n_param_combinations):\n",
    "    dat_dict_simple = {'N':len(dv),         \n",
    "                'response':response_rep[idx,i],\n",
    "                'is_full_energy':is_full_energy ,\n",
    "                'is_low_energy_LC':is_low_energy_LC,\n",
    "                'is_low_energy_HC':is_low_energy_HC,\n",
    "                'is_basic_1':is_basic_1,\n",
    "                'is_basic_2':is_basic_2,\n",
    "                'is_basic_3':is_basic_3,\n",
    "                'is_basic_4':is_basic_4\n",
    "                } \n",
    "\n",
    "\n",
    "    res_simple = sm_flat_m3.sampling(data=dat_dict_simple, iter=2000,  warmup=1000, thin=1, chains=4,seed=101, verbose = False);\n",
    "    idata_simple = az.from_pystan(posterior=res_simple,log_likelihood='log_lik')\n",
    "    looic_simple = az.loo(idata_simple,pointwise=True,scale='deviance')\n",
    "    looic_simple_i_vary_theta[i]=looic_simple[0]\n",
    "    looic_simple_se_i_vary_theta[i]=looic_simple[1]\n"
   ]
  },
  {
   "cell_type": "markdown",
   "metadata": {},
   "source": [
    "# Vary planning weights $\\beta_{plan}$"
   ]
  },
  {
   "cell_type": "markdown",
   "metadata": {},
   "source": [
    "## Simulate novel responses"
   ]
  },
  {
   "cell_type": "code",
   "execution_count": 17,
   "metadata": {},
   "outputs": [],
   "source": [
    "#%% Simulate novel data for refitting \n",
    "is_full_energy_rep = dat['is_full_energy'].to_numpy(dtype='int').squeeze()\n",
    "is_low_energy_LC_rep = dat['is_low_energy_LC'].to_numpy(dtype='int').squeeze()\n",
    "is_low_energy_HC_rep = dat['is_low_energy_HC'].to_numpy(dtype='int').squeeze()\n",
    "is_basic_1_rep = dat['is_basic_1'].to_numpy(dtype='int').squeeze()\n",
    "is_basic_2_rep = dat['is_basic_2'].to_numpy(dtype='int').squeeze()\n",
    "is_basic_3_rep = dat['is_basic_3'].to_numpy(dtype='int').squeeze()\n",
    "is_basic_4_rep = dat['is_basic_4'].to_numpy(dtype='int').squeeze()\n",
    "is_basic_rep = dat['is_basic'].to_numpy(dtype='int').squeeze()\n",
    "is_23_rep = dat['is_23'].to_numpy(dtype='int').squeeze()\n",
    "is_14_rep = dat['is_14'].to_numpy(dtype='int').squeeze()\n",
    "dv_rep = dat['dv_planning'].to_numpy().squeeze()\n",
    "\n",
    "# Get posterior mean of group and individual paramters \n",
    "beta_dv_23_rep = np.arange(0,6)\n",
    "beta_dv_14_rep = np.arange(0,6)\n",
    "theta_basic_1_rep = summary_hybrid['mu_theta_basic_1']['mean'].to_numpy()\n",
    "theta_basic_2_rep = summary_hybrid['mu_theta_basic_2']['mean'].to_numpy()\n",
    "theta_basic_3_rep = summary_hybrid['mu_theta_basic_3']['mean'].to_numpy()\n",
    "theta_basic_4_rep = summary_hybrid['mu_theta_basic_4']['mean'].to_numpy()\n",
    "theta_full_energy_rep = summary_hybrid['theta_full_energy']['mean'].to_numpy()\n",
    "theta_low_energy_HC_rep = summary_hybrid['theta_low_energy_HC']['mean'].to_numpy()\n",
    "theta_low_energy_LC_rep = summary_hybrid['theta_low_energy_LC']['mean'].to_numpy()\n",
    "\n",
    "# Sample novel binary responses based on posterior mean parameter values\n",
    "n_param_combinations = 6\n",
    "response_rep = np.zeros((len(dat),n_param_combinations))\n",
    "for i in range(n_param_combinations):\n",
    "    logits_rep = theta_full_energy_rep * is_full_energy_rep + theta_low_energy_LC_rep * is_low_energy_LC_rep + theta_low_energy_HC_rep * is_low_energy_HC_rep + theta_basic_1_rep * is_basic_1_rep + theta_basic_2_rep * is_basic_2_rep + theta_basic_3_rep * is_basic_3_rep + theta_basic_4_rep * is_basic_4_rep + beta_dv_23_rep[i] * dv_rep * is_23_rep + beta_dv_14_rep[i] * dv_rep * is_14_rep  \n",
    "    p_rep = sigmoid(logits_rep) \n",
    "    response_rep[:,i] = stats.bernoulli.rvs(p_rep)\n",
    "response_rep = np.array(response_rep,dtype=int)"
   ]
  },
  {
   "cell_type": "markdown",
   "metadata": {},
   "source": [
    "## Specifying the data and sampling posterior"
   ]
  },
  {
   "cell_type": "markdown",
   "metadata": {},
   "source": [
    "### Planning"
   ]
  },
  {
   "cell_type": "code",
   "execution_count": 18,
   "metadata": {},
   "outputs": [
    {
     "name": "stderr",
     "output_type": "stream",
     "text": [
      "WARNING:pystan:Maximum (flat) parameter count (1000) exceeded: skipping diagnostic tests for n_eff and Rhat.\n",
      "To run all diagnostics call pystan.check_hmc_diagnostics(fit)\n",
      "WARNING:pystan:Maximum (flat) parameter count (1000) exceeded: skipping diagnostic tests for n_eff and Rhat.\n",
      "To run all diagnostics call pystan.check_hmc_diagnostics(fit)\n",
      "WARNING:pystan:Maximum (flat) parameter count (1000) exceeded: skipping diagnostic tests for n_eff and Rhat.\n",
      "To run all diagnostics call pystan.check_hmc_diagnostics(fit)\n",
      "WARNING:pystan:Maximum (flat) parameter count (1000) exceeded: skipping diagnostic tests for n_eff and Rhat.\n",
      "To run all diagnostics call pystan.check_hmc_diagnostics(fit)\n",
      "WARNING:pystan:Maximum (flat) parameter count (1000) exceeded: skipping diagnostic tests for n_eff and Rhat.\n",
      "To run all diagnostics call pystan.check_hmc_diagnostics(fit)\n",
      "WARNING:pystan:Maximum (flat) parameter count (1000) exceeded: skipping diagnostic tests for n_eff and Rhat.\n",
      "To run all diagnostics call pystan.check_hmc_diagnostics(fit)\n"
     ]
    }
   ],
   "source": [
    "control_dict = dict(adapt_delta=0.95)\n",
    "idx = (dat['timeout'] == 0)\n",
    "is_full_energy = dat.loc[idx,['is_full_energy']].to_numpy(dtype='int').squeeze()\n",
    "is_low_energy_LC = dat.loc[idx,['is_low_energy_LC']].to_numpy(dtype='int').squeeze()\n",
    "is_low_energy_HC = dat.loc[idx,['is_low_energy_HC']].to_numpy(dtype='int').squeeze()\n",
    "is_basic = dat.loc[idx,['is_basic']].to_numpy(dtype='int').squeeze()\n",
    "dv = dat.loc[idx,['dv_planning']].to_numpy().squeeze()\n",
    "\n",
    "looic_planning_i_vary_beta = np.zeros(n_param_combinations)\n",
    "looic_planning_se_i_vary_beta = np.zeros(n_param_combinations)\n",
    "for i in range(n_param_combinations):\n",
    "    dat_dict_planning = {'N':len(dv),         \n",
    "                'response':response_rep[idx,i],\n",
    "                'dv':dv, \n",
    "                'is_full_energy':is_full_energy ,\n",
    "                'is_low_energy_LC':is_low_energy_LC,\n",
    "                'is_low_energy_HC':is_low_energy_HC,\n",
    "                'is_basic':is_basic\n",
    "                } \n",
    "\n",
    "\n",
    "    res_planning = sm_flat_m1.sampling(data=dat_dict_planning, iter=2000,  warmup=1000, thin=1, chains=4,seed=101, verbose = False);\n",
    "    idata_planning = az.from_pystan(posterior=res_planning,log_likelihood='log_lik')\n",
    "    looic_planning = az.loo(idata_planning,pointwise=True,scale='deviance')\n",
    "    looic_planning_i_vary_beta[i]=looic_planning[0]\n",
    "    looic_planning_se_i_vary_beta[i]=looic_planning[1];"
   ]
  },
  {
   "cell_type": "markdown",
   "metadata": {},
   "source": [
    "### Hybrid"
   ]
  },
  {
   "cell_type": "code",
   "execution_count": 19,
   "metadata": {},
   "outputs": [
    {
     "name": "stderr",
     "output_type": "stream",
     "text": [
      "WARNING:pystan:Maximum (flat) parameter count (1000) exceeded: skipping diagnostic tests for n_eff and Rhat.\n",
      "To run all diagnostics call pystan.check_hmc_diagnostics(fit)\n",
      "WARNING:pystan:Maximum (flat) parameter count (1000) exceeded: skipping diagnostic tests for n_eff and Rhat.\n",
      "To run all diagnostics call pystan.check_hmc_diagnostics(fit)\n",
      "WARNING:pystan:Maximum (flat) parameter count (1000) exceeded: skipping diagnostic tests for n_eff and Rhat.\n",
      "To run all diagnostics call pystan.check_hmc_diagnostics(fit)\n",
      "WARNING:pystan:Maximum (flat) parameter count (1000) exceeded: skipping diagnostic tests for n_eff and Rhat.\n",
      "To run all diagnostics call pystan.check_hmc_diagnostics(fit)\n",
      "WARNING:pystan:Maximum (flat) parameter count (1000) exceeded: skipping diagnostic tests for n_eff and Rhat.\n",
      "To run all diagnostics call pystan.check_hmc_diagnostics(fit)\n",
      "WARNING:pystan:Maximum (flat) parameter count (1000) exceeded: skipping diagnostic tests for n_eff and Rhat.\n",
      "To run all diagnostics call pystan.check_hmc_diagnostics(fit)\n"
     ]
    }
   ],
   "source": [
    "control_dict = dict(adapt_delta=0.95)\n",
    "idx = (dat['timeout'] == 0)\n",
    "is_full_energy = dat.loc[idx,['is_full_energy']].to_numpy(dtype='int').squeeze()\n",
    "is_low_energy_LC = dat.loc[idx,['is_low_energy_LC']].to_numpy(dtype='int').squeeze()\n",
    "is_low_energy_HC = dat.loc[idx,['is_low_energy_HC']].to_numpy(dtype='int').squeeze()\n",
    "is_basic_1 = dat.loc[idx,['is_basic_1']].to_numpy(dtype='int').squeeze()\n",
    "is_basic_2 = dat.loc[idx,['is_basic_2']].to_numpy(dtype='int').squeeze()\n",
    "is_basic_3 = dat.loc[idx,['is_basic_3']].to_numpy(dtype='int').squeeze()\n",
    "is_basic_4 = dat.loc[idx,['is_basic_4']].to_numpy(dtype='int').squeeze()\n",
    "is_basic = dat.loc[idx,['is_basic']].to_numpy(dtype='int').squeeze()\n",
    "is_23 = dat.loc[idx,['is_23']].to_numpy(dtype='int').squeeze()\n",
    "is_14 = dat.loc[idx,['is_14']].to_numpy(dtype='int').squeeze()\n",
    "dv = dat.loc[idx,['dv_planning']].to_numpy().squeeze()\n",
    "\n",
    "looic_hybrid_i_vary_beta = np.zeros(n_param_combinations)\n",
    "looic_hybrid_se_i_vary_beta = np.zeros(n_param_combinations)\n",
    "for i in range(n_param_combinations):\n",
    "    dat_dict_hybrid= {'N':len(dv),         \n",
    "                'response':response_rep[idx,i],\n",
    "                'dv':dv,      \n",
    "                'is_full_energy':is_full_energy ,\n",
    "                'is_low_energy_LC':is_low_energy_LC,\n",
    "                'is_low_energy_HC':is_low_energy_HC,\n",
    "                'is_basic_1':is_basic_1,\n",
    "                'is_basic_2':is_basic_2,\n",
    "                'is_basic_3':is_basic_3,\n",
    "                'is_basic_4':is_basic_4,\n",
    "                'is_23':is_23,\n",
    "                'is_14':is_14\n",
    "                } \n",
    "\n",
    "    res_hybrid = sm_flat_m2.sampling(data=dat_dict_hybrid, iter=2000,  warmup=1000, thin=1, chains=4,control = control_dict,seed=101, verbose = False);\n",
    "    idata_hybrid = az.from_pystan(posterior=res_hybrid,log_likelihood='log_lik')\n",
    "    looic_hybrid = az.loo(idata_hybrid,pointwise=True,scale='deviance')\n",
    "    looic_hybrid_i_vary_beta[i]=looic_hybrid[0]\n",
    "    looic_hybrid_se_i_vary_beta[i]=looic_hybrid[1];"
   ]
  },
  {
   "cell_type": "markdown",
   "metadata": {},
   "source": [
    "### Simple"
   ]
  },
  {
   "cell_type": "code",
   "execution_count": 20,
   "metadata": {},
   "outputs": [
    {
     "name": "stderr",
     "output_type": "stream",
     "text": [
      "WARNING:pystan:Maximum (flat) parameter count (1000) exceeded: skipping diagnostic tests for n_eff and Rhat.\n",
      "To run all diagnostics call pystan.check_hmc_diagnostics(fit)\n",
      "WARNING:pystan:Maximum (flat) parameter count (1000) exceeded: skipping diagnostic tests for n_eff and Rhat.\n",
      "To run all diagnostics call pystan.check_hmc_diagnostics(fit)\n",
      "WARNING:pystan:Maximum (flat) parameter count (1000) exceeded: skipping diagnostic tests for n_eff and Rhat.\n",
      "To run all diagnostics call pystan.check_hmc_diagnostics(fit)\n",
      "WARNING:pystan:Maximum (flat) parameter count (1000) exceeded: skipping diagnostic tests for n_eff and Rhat.\n",
      "To run all diagnostics call pystan.check_hmc_diagnostics(fit)\n",
      "WARNING:pystan:Maximum (flat) parameter count (1000) exceeded: skipping diagnostic tests for n_eff and Rhat.\n",
      "To run all diagnostics call pystan.check_hmc_diagnostics(fit)\n",
      "WARNING:pystan:Maximum (flat) parameter count (1000) exceeded: skipping diagnostic tests for n_eff and Rhat.\n",
      "To run all diagnostics call pystan.check_hmc_diagnostics(fit)\n"
     ]
    }
   ],
   "source": [
    "control_dict = dict(adapt_delta=0.95)\n",
    "idx = (dat['timeout'] == 0)\n",
    "is_full_energy = dat.loc[idx,['is_full_energy']].to_numpy(dtype='int').squeeze()\n",
    "is_low_energy_LC = dat.loc[idx,['is_low_energy_LC']].to_numpy(dtype='int').squeeze()\n",
    "is_low_energy_HC = dat.loc[idx,['is_low_energy_HC']].to_numpy(dtype='int').squeeze()\n",
    "is_basic = dat.loc[idx,['is_basic']].to_numpy(dtype='int').squeeze()\n",
    "dv = dat.loc[idx,['dv_simple']].to_numpy().squeeze()\n",
    "\n",
    "looic_simple_i_vary_beta = np.zeros(n_param_combinations)\n",
    "looic_simple_se_i_vary_beta = np.zeros(n_param_combinations)\n",
    "for i in range(n_param_combinations):\n",
    "    dat_dict_simple = {'N':len(dv),         \n",
    "                'response':response_rep[idx,i],\n",
    "                'is_full_energy':is_full_energy ,\n",
    "                'is_low_energy_LC':is_low_energy_LC,\n",
    "                'is_low_energy_HC':is_low_energy_HC,\n",
    "                'is_basic_1':is_basic_1,\n",
    "                'is_basic_2':is_basic_2,\n",
    "                'is_basic_3':is_basic_3,\n",
    "                'is_basic_4':is_basic_4\n",
    "                } \n",
    "\n",
    "\n",
    "    res_simple = sm_flat_m3.sampling(data=dat_dict_simple, iter=2000,  warmup=1000, thin=1, chains=4,seed=101, verbose = False);\n",
    "    idata_simple = az.from_pystan(posterior=res_simple,log_likelihood='log_lik')\n",
    "    looic_simple = az.loo(idata_simple,pointwise=True,scale='deviance')\n",
    "    looic_simple_i_vary_beta[i]=looic_simple[0]\n",
    "    looic_simple_se_i_vary_beta[i]=looic_simple[1]\n"
   ]
  },
  {
   "cell_type": "markdown",
   "metadata": {},
   "source": [
    "# Plot LOOIC for all three models across the range of simulation parameters"
   ]
  },
  {
   "cell_type": "code",
   "execution_count": 35,
   "metadata": {},
   "outputs": [
    {
     "data": {
      "image/png": "[encoded data removed]",
      "text/plain": [
       "<Figure size 504x180 with 2 Axes>"
      ]
     },
     "metadata": {
      "needs_background": "light"
     },
     "output_type": "display_data"
    }
   ],
   "source": [
    "barx_simple = np.arange(0,21,4)\n",
    "barx_planning = np.arange(0,21,4)+1\n",
    "barx_hybrid = np.arange(0,21,4)+2\n",
    "xticks = np.arange(0,21,4)+1\n",
    "xticklabels = np.arange(0,6)\n",
    "\n",
    "fig, ax = plt.subplots(1,2,figsize=(7,2.5))\n",
    "for i,axes in enumerate(ax.flat):\n",
    "    if i == 0:\n",
    "        axes.bar(barx_simple,looic_simple_i_vary_theta,yerr=looic_simple_se_i_vary_theta,label='SM')\n",
    "        axes.bar(barx_planning,looic_planning_i_vary_theta,yerr=looic_planning_se_i_vary_theta,label='PM')\n",
    "        axes.bar(barx_hybrid,looic_hybrid_i_vary_theta,yerr=looic_hybrid_se_i_vary_theta,label='HM')\n",
    "        axes.set_xlabel(r'|$\\theta_{O i}$|', fontsize=10);\n",
    "        axes.legend(frameon=False)\n",
    "\n",
    "    if i == 1:\n",
    "        axes.bar(barx_simple,looic_simple_i_vary_beta,yerr=looic_simple_se_i_vary_beta)\n",
    "        axes.bar(barx_planning,looic_planning_i_vary_beta,yerr=looic_planning_se_i_vary_beta)\n",
    "        axes.bar(barx_hybrid,looic_hybrid_i_vary_beta,yerr=looic_hybrid_se_i_vary_beta)\n",
    "        axes.set_xlabel(r'$\\beta_{plan}$', fontsize=10);\n",
    "        \n",
    "    axes.set_ylabel('LOOIC')\n",
    "    axes.set_xticks(xticks)\n",
    "    axes.set_xticklabels(xticklabels)\n",
    "\n",
    "#fig.savefig('model_recovery', dpi=300, bbox_inches='tight', transparent=False)"
   ]
  }
 ],
 "metadata": {
  "kernelspec": {
   "display_name": "Python 3 (ipykernel)",
   "language": "python",
   "name": "python3"
  },
  "language_info": {
   "codemirror_mode": {
    "name": "ipython",
    "version": 3
   },
   "file_extension": ".py",
   "mimetype": "text/x-python",
   "name": "python",
   "nbconvert_exporter": "python",
   "pygments_lexer": "ipython3",
   "version": "3.7.6"
  }
 },
 "nbformat": 4,
 "nbformat_minor": 4
}
